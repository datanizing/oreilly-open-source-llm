{
 "cells": [
  {
   "cell_type": "markdown",
   "id": "b64ece1d-7558-4fb6-a98b-ad06283bb898",
   "metadata": {},
   "source": [
    "# Load data (from previous notebook)"
   ]
  },
  {
   "cell_type": "code",
   "execution_count": null,
   "id": "1c08c809-10c6-42aa-9a01-0477ca426b2f",
   "metadata": {},
   "outputs": [],
   "source": [
    "sentences = open(\"sentences.txt\").read().split(\"@@@\")"
   ]
  },
  {
   "cell_type": "code",
   "execution_count": null,
   "id": "73220da2-6d8f-42db-95ac-f361449388b5",
   "metadata": {},
   "outputs": [],
   "source": [
    "len(sentences)"
   ]
  },
  {
   "cell_type": "code",
   "execution_count": null,
   "id": "9d13cb7a-1325-4059-af8c-bbd026ce9a86",
   "metadata": {},
   "outputs": [],
   "source": [
    "import numpy as np\n",
    "with open(\"sentences-mqa.npy\", \"rb\") as f:\n",
    "    sembeddings = np.load(f)"
   ]
  },
  {
   "cell_type": "markdown",
   "id": "c8a656b2-e292-47e4-8c91-066acbf77186",
   "metadata": {},
   "source": [
    "# Retrieval"
   ]
  },
  {
   "cell_type": "code",
   "execution_count": null,
   "id": "d690106a-8751-48c5-80b1-af6078a2a6ee",
   "metadata": {},
   "outputs": [],
   "source": [
    "import numpy as np\n",
    "import pandas as pd\n",
    "def search(query, text, corpus_embeddings, bi_encoder, cross_encoder, query_prompt_name=None, top_k=100):\n",
    "    # code query to restrict search space\n",
    "    question_embedding = bi_encoder.encode(query, normalize_embeddings=True, prompt_name=query_prompt_name)\n",
    "    \n",
    "    # Determine similarity (vectors are normalized)\n",
    "    sim = model.similarity(question_embedding, corpus_embeddings)[0].numpy() \n",
    "    \n",
    "    # Get most similar top_k by sorting\n",
    "    hits = [ { \"id\": i, \"text\": text[i], \"score\": sim[i] } \n",
    "                     for i in sim.argsort()[::-1][0:top_k] ]\n",
    "\n",
    "    # Consider only top hits for re-ranking\n",
    "    cross_input = [[query, hit[\"text\"]] for hit in hits]\n",
    "    # cross-encode (this takes most time)\n",
    "    cross_scores = cross_encoder.predict(cross_input)\n",
    "\n",
    "    # Integrate cross-scores in original hits (this would be easier with pandas)\n",
    "    for i in range(len(cross_scores)):\n",
    "        hits[i][\"cross-score\"] = cross_scores[i]\n",
    "\n",
    "    # nre-sort by cross-score, descending!\n",
    "    hits = sorted(hits, key=lambda x: x[\"cross-score\"], reverse=True)\n",
    "    \n",
    "    # Return top-20 results of re-ranker as dataframe\n",
    "    return pd.DataFrame(hits[0:20])"
   ]
  },
  {
   "cell_type": "code",
   "execution_count": null,
   "id": "9ca1b2b1-9072-4b60-b8c4-4130b8f8d6dd",
   "metadata": {},
   "outputs": [],
   "source": [
    "# bi-encoder is needed\n",
    "from sentence_transformers import SentenceTransformer\n",
    "model = SentenceTransformer('multi-qa-MiniLM-L6-cos-v1')"
   ]
  },
  {
   "cell_type": "code",
   "execution_count": null,
   "id": "35618b47-7f43-4255-9fb2-2206a0e357ff",
   "metadata": {},
   "outputs": [],
   "source": [
    "# cross encoder\n",
    "from sentence_transformers import CrossEncoder, util\n",
    "cross_encoder = CrossEncoder('cross-encoder/ms-marco-MiniLM-L-6-v2')"
   ]
  },
  {
   "cell_type": "code",
   "execution_count": null,
   "id": "7b3a0f3f-6a10-406e-938c-ff7573787206",
   "metadata": {},
   "outputs": [],
   "source": [
    "pd.set_option('display.max_colwidth', 0)"
   ]
  },
  {
   "cell_type": "code",
   "execution_count": null,
   "id": "ed14fc30-5640-4891-8ae1-defa57bf21a6",
   "metadata": {},
   "outputs": [],
   "source": [
    "search(\"Is the climate crisis worse in poorer countries?\", sentences, sembeddings, model, cross_encoder)"
   ]
  },
  {
   "cell_type": "code",
   "execution_count": null,
   "id": "249aee64-c6cb-42d2-941e-e32c96b6e6a9",
   "metadata": {},
   "outputs": [],
   "source": [
    "model2 = SentenceTransformer('mixedbread-ai/mxbai-embed-large-v1')\n",
    "with open(\"sentences-mbread.npy\", \"rb\") as f:\n",
    "    sembeddings2 = np.load(f)"
   ]
  },
  {
   "cell_type": "code",
   "execution_count": null,
   "id": "de7420e4-cee7-4040-b180-9ece606812bf",
   "metadata": {},
   "outputs": [],
   "source": [
    "search(\"Is the climate crisis worse in poorer countries?\", \n",
    "       sentences, sembeddings2, model2, cross_encoder, query_prompt_name=\"query\")"
   ]
  },
  {
   "cell_type": "code",
   "execution_count": null,
   "id": "da1e782c",
   "metadata": {},
   "outputs": [],
   "source": [
    "model3 = SentenceTransformer(\"NovaSearch/stella_en_1.5B_v5\", trust_remote_code=True)\n",
    "with open(\"sentences-stella.npy\", \"rb\") as f:\n",
    "    sembeddings3 = np.load(f)"
   ]
  },
  {
   "cell_type": "code",
   "execution_count": null,
   "id": "ce6452e7",
   "metadata": {},
   "outputs": [],
   "source": [
    "search(\"Is the climate crisis worse in poorer countries?\", \n",
    "       sentences, sembeddings3, model3, cross_encoder, query_prompt_name=\"s2p_query\")"
   ]
  },
  {
   "cell_type": "code",
   "execution_count": null,
   "id": "66605325",
   "metadata": {},
   "outputs": [],
   "source": []
  },
  {
   "cell_type": "markdown",
   "id": "b43418a9",
   "metadata": {},
   "source": [
    "## Alternative cross encoder"
   ]
  },
  {
   "cell_type": "code",
   "execution_count": null,
   "id": "9685a57c-f658-4cfb-9cd9-20e118f14e5a",
   "metadata": {},
   "outputs": [],
   "source": [
    "cross_encoder2 = CrossEncoder('mixedbread-ai/mxbai-rerank-large-v1')"
   ]
  },
  {
   "cell_type": "code",
   "execution_count": null,
   "id": "bb74c1f4",
   "metadata": {},
   "outputs": [],
   "source": [
    "search(\"Is the climate crisis worse in poorer countries?\", sentences, sembeddings, model, cross_encoder2)"
   ]
  },
  {
   "cell_type": "code",
   "execution_count": null,
   "id": "1b2477e8",
   "metadata": {},
   "outputs": [],
   "source": [
    "search(\"Is the climate crisis worse in poorer countries?\", sentences, sembeddings3, model3, \n",
    "       cross_encoder2, query_prompt_name=\"s2p_query\")"
   ]
  },
  {
   "cell_type": "code",
   "execution_count": null,
   "id": "a31a6b5d-4fbe-4b48-8efc-588096076651",
   "metadata": {},
   "outputs": [],
   "source": []
  }
 ],
 "metadata": {
  "kernelspec": {
   "display_name": "Python 3 (ipykernel)",
   "language": "python",
   "name": "python3"
  },
  "language_info": {
   "codemirror_mode": {
    "name": "ipython",
    "version": 3
   },
   "file_extension": ".py",
   "mimetype": "text/x-python",
   "name": "python",
   "nbconvert_exporter": "python",
   "pygments_lexer": "ipython3",
   "version": "3.12.3"
  }
 },
 "nbformat": 4,
 "nbformat_minor": 5
}
